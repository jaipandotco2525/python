{
  "nbformat": 4,
  "nbformat_minor": 0,
  "metadata": {
    "colab": {
      "name": "Cheminfo_rdkit.ipynb ",
      "provenance": [],
      "collapsed_sections": [],
      "include_colab_link": true
    },
    "kernelspec": {
      "display_name": "Python 3",
      "language": "python",
      "name": "python3"
    },
    "language_info": {
      "codemirror_mode": {
        "name": "ipython",
        "version": 3
      },
      "file_extension": ".py",
      "mimetype": "text/x-python",
      "name": "python",
      "nbconvert_exporter": "python",
      "pygments_lexer": "ipython3",
      "version": "3.7.2"
    }
  },
  "cells": [
    {
      "cell_type": "markdown",
      "metadata": {
        "id": "view-in-github",
        "colab_type": "text"
      },
      "source": [
        "<a href=\"https://colab.research.google.com/github/jaipandotco2525/python/blob/master/Cheminfo_rdkit.ipynb\" target=\"_parent\"><img src=\"https://colab.research.google.com/assets/colab-badge.svg\" alt=\"Open In Colab\"/></a>"
      ]
    },
    {
      "cell_type": "markdown",
      "metadata": {
        "id": "w2c2kqt0-kY4",
        "colab_type": "text"
      },
      "source": [
        "# Chem_info Project Based Learning 2019/09/21\n",
        "# chem_project team2\n"
      ]
    },
    {
      "cell_type": "markdown",
      "metadata": {
        "id": "Ef4NahRR_IS3",
        "colab_type": "text"
      },
      "source": [
        "### RDKIt\n",
        "\n",
        "[RDKit]（https://www.rdkit.org/） は、非常に強力で便利なツールキットですが、Google Colaboratoryにはインストールされていないオープンソースの化学情報学ソフトウェアです。\n",
        "\n",
        "したがって、最初にrdkitパッケージをインストールする必要があります。 Google Colabはすべてのセッションで初期化される仮想サーバーであるため、すべてのセッションをインストールする必要あり。\n",
        "\n"
      ]
    },
    {
      "cell_type": "code",
      "metadata": {
        "colab_type": "code",
        "id": "aQTcs2bsyPiq",
        "colab": {}
      },
      "source": [
        "!wget -c https://repo.continuum.io/miniconda/Miniconda3-latest-Linux-x86_64.sh\n",
        "!chmod +x Miniconda3-latest-Linux-x86_64.sh\n",
        "!time bash ./Miniconda3-latest-Linux-x86_64.sh -b -f -p /usr/local\n",
        "!time conda install -q -y -c conda-forge rdkit"
      ],
      "execution_count": 0,
      "outputs": []
    },
    {
      "cell_type": "markdown",
      "metadata": {
        "id": "sovZS-q-Av7v",
        "colab_type": "text"
      },
      "source": [
        "環境設定"
      ]
    },
    {
      "cell_type": "code",
      "metadata": {
        "colab_type": "code",
        "id": "q6ou5TozyQWc",
        "colab": {}
      },
      "source": [
        "import sys\n",
        "import os\n",
        "sys.path.append('/usr/local/lib/python3.7/site-packages')"
      ],
      "execution_count": 0,
      "outputs": []
    },
    {
      "cell_type": "markdown",
      "metadata": {
        "id": "m50Xj4qqA0rd",
        "colab_type": "text"
      },
      "source": [
        "すべてのパッケージが適切にインストールされると、次のセルに次のテキストが表示されます。\n",
        "\n",
        "ドキュメントについては、ドキュメントツリーのChem / index.htmlを参照"
      ]
    },
    {
      "cell_type": "code",
      "metadata": {
        "colab_type": "code",
        "id": "XjIInAZhzbNL",
        "colab": {}
      },
      "source": [
        "import numpy as np\n",
        "import pandas as pd\n",
        "import rdkit\n",
        "from rdkit import Chem\n",
        "# from rdkit import Chem\n",
        "\n",
        "print(Chem.__doc__)"
      ],
      "execution_count": 0,
      "outputs": []
    },
    {
      "cell_type": "markdown",
      "metadata": {
        "id": "eb-AkkabBM3c",
        "colab_type": "text"
      },
      "source": [
        "さらにツールをimport"
      ]
    },
    {
      "cell_type": "code",
      "metadata": {
        "colab_type": "code",
        "id": "rh02IQLDzc_D",
        "colab": {}
      },
      "source": [
        "from numpy import vectorize as vec\n",
        "import scipy as sp\n",
        "import sklearn\n",
        "from sklearn.model_selection import train_test_split\n",
        "import matplotlib\n",
        "import matplotlib.pyplot as plt\n",
        "%matplotlib inline\n",
        "import seaborn as sns\n",
        "\n",
        "from rdkit.Chem.Draw import IPythonConsole\n",
        "from rdkit.Chem import Descriptors,PandasTools\n"
      ],
      "execution_count": 0,
      "outputs": []
    },
    {
      "cell_type": "markdown",
      "metadata": {
        "id": "3FClGRvPZuHG",
        "colab_type": "text"
      },
      "source": [
        "### Tox21 data set\n",
        "毒物データベース\n",
        "今回は7534種類の分子から学習データを75%（このうち活性アリが218種類、活性無しが5297種類）\n",
        "テストデータを25%（活性アリ78種類、活性無しが1761種類）を準備して重複データを削除して機械学習を行った。"
      ]
    },
    {
      "cell_type": "markdown",
      "metadata": {
        "id": "JgTxG2jlBa7x",
        "colab_type": "text"
      },
      "source": [
        "Download a datafile `na-ar.sdf` from the link below.\n",
        "\n",
        "https://drive.google.com/uc?id=1ALUNDgAmpauEa0Oa6-6TOPAG_uDTy0HH&export=download\n",
        "\n",
        "Download a datafile `washed-nr-er.tsv` from the link below.\n",
        "\n",
        "https://docs.google.com/uc?id=1N-Qykm94hz8NFPppYgTYcQwiRhqJNimw&export=download\n",
        "\n",
        "次のセルを実行します。アップロードするファイルを選択するように求められるので、ローカルマシンからダウンロードしたファイルをアップロードします。"
      ]
    },
    {
      "cell_type": "code",
      "metadata": {
        "colab_type": "code",
        "id": "O61XK6xazojr",
        "colab": {}
      },
      "source": [
        "from google.colab import files\n",
        "uploaded = files.upload()"
      ],
      "execution_count": 0,
      "outputs": []
    },
    {
      "cell_type": "markdown",
      "metadata": {
        "id": "86IHvHr0FmQ7",
        "colab_type": "text"
      },
      "source": [
        "次のセルを実行します。アップロードするファイルを選択するように求められるので、ローカルマシンからダウンロードしたファイルをアップロードします。"
      ]
    },
    {
      "cell_type": "code",
      "metadata": {
        "id": "h_vLS6c1FqEf",
        "colab_type": "code",
        "colab": {}
      },
      "source": [
        "! ls -la"
      ],
      "execution_count": 0,
      "outputs": []
    },
    {
      "cell_type": "markdown",
      "metadata": {
        "id": "pOGaUfODJRj9",
        "colab_type": "text"
      },
      "source": [
        "次に、アップロードされた分子データを読み取ります。\n",
        "\n",
        "（ファイルの読み取り時のエラーを無視します）\n",
        "\n",
        " `na-ar.sdf`は元のデータセットです。\n",
        "\n",
        "`washed-nr-er.tsv`はキュレーションされたデータセットです。"
      ]
    },
    {
      "cell_type": "code",
      "metadata": {
        "colab_type": "code",
        "id": "YTfUGD5Yz3TV",
        "colab": {}
      },
      "source": [
        "mols=PandasTools.LoadSDF('nr-ar.sdf',smilesName='SMILES',molColName='Molecule',includeFingerprints=True)\n"
      ],
      "execution_count": 0,
      "outputs": []
    },
    {
      "cell_type": "code",
      "metadata": {
        "id": "Uu7nacR2sy_C",
        "colab_type": "code",
        "colab": {}
      },
      "source": [
        "mols_washed = pd.read_csv('washed-nr-er.tsv')\n"
      ],
      "execution_count": 0,
      "outputs": []
    },
    {
      "cell_type": "markdown",
      "metadata": {
        "id": "3vFlSkCqTHGD",
        "colab_type": "text"
      },
      "source": [
        "新しいデータを読み込むときは詳細なデータ構造を確認"
      ]
    },
    {
      "cell_type": "code",
      "metadata": {
        "colab_type": "code",
        "id": "L_tydUgi03_L",
        "colab": {}
      },
      "source": [
        "mols.shape"
      ],
      "execution_count": 0,
      "outputs": []
    },
    {
      "cell_type": "markdown",
      "metadata": {
        "id": "0u1KdGMNuO9d",
        "colab_type": "text"
      },
      "source": [
        "mols_washed.shape"
      ]
    },
    {
      "cell_type": "code",
      "metadata": {
        "colab_type": "code",
        "id": "sla5QqE50oGz",
        "colab": {}
      },
      "source": [
        "mols.columns"
      ],
      "execution_count": 0,
      "outputs": []
    },
    {
      "cell_type": "markdown",
      "metadata": {
        "id": "byiQqSCOTYnh",
        "colab_type": "text"
      },
      "source": [
        "`head()` は大きなデータを確認するのに適した方法です\n",
        "\n"
      ]
    },
    {
      "cell_type": "markdown",
      "metadata": {
        "id": "K4WroYC5XWGp",
        "colab_type": "text"
      },
      "source": [
        "したがって、何らかの機械学習モデルを使用して、分子構造から毒性を「予測」できると便利です。危険な化学物質を避け、新薬の候補を見つけるのに役立ちます。\n",
        "\n",
        "ただし、分子構造は非常に複雑なので、分子記述子と呼ばれる数値表現に変換します。\n"
      ]
    },
    {
      "cell_type": "code",
      "metadata": {
        "colab_type": "code",
        "id": "Fu5P_REM07vL",
        "colab": {}
      },
      "source": [
        "mols[['Active', 'DSSTox_CID', 'FW', 'Formula', 'ID', 'Molecule', 'SMILES']].head(2)"
      ],
      "execution_count": 0,
      "outputs": []
    },
    {
      "cell_type": "code",
      "metadata": {
        "id": "AQ3AOwXmKcUE",
        "colab_type": "code",
        "colab": {}
      },
      "source": [
        "mols['Active'][0:4]"
      ],
      "execution_count": 0,
      "outputs": []
    },
    {
      "cell_type": "code",
      "metadata": {
        "colab_type": "code",
        "id": "792sJXWc05Tb",
        "colab": {}
      },
      "source": [
        "print(\"Number of   active molecules:  \", list(mols.Active).count('1'))  #Active\n",
        "print(\"Number of inactive molecules:  \", list(mols.Active).count('0'))  #Inactive"
      ],
      "execution_count": 0,
      "outputs": []
    },
    {
      "cell_type": "code",
      "metadata": {
        "colab_type": "code",
        "id": "frq0UJHH0-OD",
        "colab": {}
      },
      "source": [
        "names = [x[0] for x in Descriptors._descList]\n",
        "print(\"Number of descriptors in the rdkit: \", len(names))\n",
        "np.array(names)[0:10]\n"
      ],
      "execution_count": 0,
      "outputs": []
    },
    {
      "cell_type": "code",
      "metadata": {
        "colab_type": "code",
        "id": "TqJfSEsk1Bez",
        "colab": {}
      },
      "source": [
        "for desc in ['TPSA','MaxPartialCharge','SlogP_VSA1','EState_VSA1','SMR_VSA1','MolLogP','MolMR','BalabanJ','Ipc','HallKierAlpha','Kappa1','Kappa2','Kappa3','RingCount','NumHAcceptors','NumHDonors']:\n",
        "    exec(\"mols[desc]=vec(Descriptors.{})(mols['Molecule'])\".format(desc))\n",
        "print(\"shape of data : {}\".format(mols.shape))\n"
      ],
      "execution_count": 0,
      "outputs": []
    },
    {
      "cell_type": "code",
      "metadata": {
        "colab_type": "code",
        "id": "tnL6AvB21Etz",
        "colab": {}
      },
      "source": [
        "print(mols.isnull().any())"
      ],
      "execution_count": 0,
      "outputs": []
    },
    {
      "cell_type": "markdown",
      "metadata": {
        "id": "mf86-AjEskZU",
        "colab_type": "text"
      },
      "source": [
        "分子記述子の一覧（それぞれ環構造の特徴を表しているものや、分子分極率等分子の構成に関わる記述子など様々なものがある。）"
      ]
    },
    {
      "cell_type": "code",
      "metadata": {
        "colab_type": "code",
        "id": "IL7cbV1g1Pec",
        "colab": {}
      },
      "source": [
        "mols_desc=mols.drop([\"MaxPartialCharge\",\"Ipc\",\"Kappa3\", \"Active\", \"DSSTox_CID\", \"FW\", \"Formula\", \"ID\", \"Molecule\", \"SMILES\"], axis=1)"
      ],
      "execution_count": 0,
      "outputs": []
    },
    {
      "cell_type": "markdown",
      "metadata": {
        "id": "U2xnANzfZT_M",
        "colab_type": "text"
      },
      "source": [
        "いくつかの分子特性の分布と相関関係を見てみる"
      ]
    },
    {
      "cell_type": "code",
      "metadata": {
        "colab_type": "code",
        "id": "0-to0enY1Sqb",
        "colab": {}
      },
      "source": [
        "def set_color(L):\n",
        "  tmp = []\n",
        "  for l in L:\n",
        "    if l == '1':\n",
        "      tmp.append(\"red\")\n",
        "    else:\n",
        "      tmp.append(\"palegreen\")\n",
        "  return tmp\n",
        "\n",
        "pd.plotting.scatter_matrix(mols_desc,figsize=(16,16), hist_kwds={'bins':15},  \n",
        "                           marker='+', s=8, alpha=.5, c=set_color(mols.Active))\n",
        "plt.show()"
      ],
      "execution_count": 0,
      "outputs": []
    },
    {
      "cell_type": "markdown",
      "metadata": {
        "id": "0-FQHFj_ZLpj",
        "colab_type": "text"
      },
      "source": [
        "### Classifier\n",
        "\n",
        "例として、ランダムフォレストを用いて、分子が有毒かどうかを分類してみる。\n"
      ]
    },
    {
      "cell_type": "markdown",
      "metadata": {
        "id": "D2iULMIgZ-rw",
        "colab_type": "text"
      },
      "source": [
        "検証のために、トレーニングデータとテストデータを分離する。"
      ]
    },
    {
      "cell_type": "code",
      "metadata": {
        "colab_type": "code",
        "id": "crujHDSB1VO7",
        "colab": {}
      },
      "source": [
        "X_train, X_test, y_train, y_test = train_test_split(mols_desc, mols.Active, train_size=0.75, test_size=0.25)"
      ],
      "execution_count": 0,
      "outputs": []
    },
    {
      "cell_type": "code",
      "metadata": {
        "colab_type": "code",
        "id": "aru1eZKX1hRb",
        "colab": {}
      },
      "source": [
        "print(\"Training Data\")\n",
        "print(\"Number of   active molecules:  \", list(y_train).count('1'))\n",
        "print(\"Number of inactive molecules:  \", list(y_train).count('0'))\n",
        "print(\"Test Data\")\n",
        "print(\"Number of   active molecules:  \", list(y_test).count('1'))\n",
        "print(\"Number of inactive molecules:  \", list(y_test).count('0'))"
      ],
      "execution_count": 0,
      "outputs": []
    },
    {
      "cell_type": "markdown",
      "metadata": {
        "id": "Z81k2b1jaNGG",
        "colab_type": "text"
      },
      "source": [
        "### 試した学習手法\n",
        "•\tRandom-forest\n",
        "データセットの様々なサブサンプルにいくつかの決定木分類器を当てはめ、予測精度を向上させて過剰適合を制御するために平均化を使用する手法。\n",
        "\n",
        "•\tExtremely Randomized Trees\n",
        "Random-Forest は 決定木を作る際に分岐させる位置を網羅的に探索し、基準を決めて最も良い部分を選びますが、この手法では分岐関数をランダムで選択する手法となっております。\n",
        "\n",
        "•\tGradient Boosting（勾配ブースティング）\n",
        "決定木を逐次的に増やしていき、１つ前の決定木の誤りを次の決定木が修正するようにして、新たな決定木を順番に生成していく手法。\n",
        "\n",
        "LightGBM：左右均等に決定木を成⻑させるのではなく、あくまで目的関数を最小にする向きに成⻑させる特徴がある勾配ブースティングの1種の手法\n",
        "\n",
        "訓練データの特徴量を階級に分けてヒストグラム化することで、意図的に厳密な枝分かれを探さず大規模なデータセットに対して、計算コストを抑えることが可能な手法となっております。\n",
        "\n",
        "\n",
        "###ここでは、ランダムフォレストで学習させた結果とコードを提示する\n",
        "\n"
      ]
    },
    {
      "cell_type": "code",
      "metadata": {
        "colab_type": "code",
        "id": "9XtBK1bC1xwr",
        "colab": {}
      },
      "source": [
        "from sklearn.ensemble import RandomForestClassifier\n",
        "model = RandomForestClassifier(random_state=0)\n",
        "model.fit(X_train, y_train)\n"
      ],
      "execution_count": 0,
      "outputs": []
    },
    {
      "cell_type": "code",
      "metadata": {
        "colab_type": "code",
        "id": "Q5djMqCw18Nb",
        "colab": {}
      },
      "source": [
        "print(\"Accuracy on training set: {:.3f}\".format(model.score(X_train, y_train)))\n",
        "print(\"Accuracy on test set:     {:.3f}\".format(model.score(X_test , y_test)))\n",
        "df = pd.DataFrame(model.feature_importances_, index = X_train.columns)\n",
        "df"
      ],
      "execution_count": 0,
      "outputs": []
    },
    {
      "cell_type": "markdown",
      "metadata": {
        "id": "YkxAMT6ec-XD",
        "colab_type": "text"
      },
      "source": [
        "scikit-learnライブラリには、何百ものツールとアルゴリズムが実装されています。 化学記述子を使用して分子を予測/分類する他のモデルと方法を選択できます。\n",
        "\n"
      ]
    },
    {
      "cell_type": "code",
      "metadata": {
        "colab_type": "code",
        "id": "__V0w3Vd1_oy",
        "colab": {}
      },
      "source": [
        ""
      ],
      "execution_count": 0,
      "outputs": []
    }
  ]
}