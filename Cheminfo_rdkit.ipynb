{
  "nbformat": 4,
  "nbformat_minor": 0,
  "metadata": {
    "colab": {
      "name": "Cheminfo_rdkit.ipynb ",
      "provenance": [],
      "collapsed_sections": [],
      "include_colab_link": true
    },
    "kernelspec": {
      "display_name": "Python 3",
      "language": "python",
      "name": "python3"
    },
    "language_info": {
      "codemirror_mode": {
        "name": "ipython",
        "version": 3
      },
      "file_extension": ".py",
      "mimetype": "text/x-python",
      "name": "python",
      "nbconvert_exporter": "python",
      "pygments_lexer": "ipython3",
      "version": "3.7.2"
    }
  },
  "cells": [
    {
      "cell_type": "markdown",
      "metadata": {
        "id": "view-in-github",
        "colab_type": "text"
      },
      "source": [
        "<a href=\"https://colab.research.google.com/github/jaipandotco2525/python/blob/master/Cheminfo_rdkit.ipynb\" target=\"_parent\"><img src=\"https://colab.research.google.com/assets/colab-badge.svg\" alt=\"Open In Colab\"/></a>"
      ]
    },
    {
      "cell_type": "markdown",
      "metadata": {
        "id": "w2c2kqt0-kY4",
        "colab_type": "text"
      },
      "source": [
        "# Chem_info Project Based Learning 2019/09/21\n",
        "# chem_project team2\n"
      ]
    },
    {
      "cell_type": "markdown",
      "metadata": {
        "id": "Ef4NahRR_IS3",
        "colab_type": "text"
      },
      "source": [
        "### RDKIt\n",
        "\n",
        "[RDKit](https://www.rdkit.org/) is a Open-Source Cheminformatics Software, which is very powerful and useful toolkit, however, it is not installed Google Colaboratory.\n",
        "\n",
        "Thus, you need install rdkit packages first. Since Google Colab is a virtual server which is initialized for every session, you have to install every session.\n",
        "\n",
        "Run the commands below. It will take a few minute. Please be patient.\n"
      ]
    },
    {
      "cell_type": "code",
      "metadata": {
        "colab_type": "code",
        "id": "aQTcs2bsyPiq",
        "colab": {}
      },
      "source": [
        "!wget -c https://repo.continuum.io/miniconda/Miniconda3-latest-Linux-x86_64.sh\n",
        "!chmod +x Miniconda3-latest-Linux-x86_64.sh\n",
        "!time bash ./Miniconda3-latest-Linux-x86_64.sh -b -f -p /usr/local\n",
        "!time conda install -q -y -c conda-forge rdkit"
      ],
      "execution_count": 0,
      "outputs": []
    },
    {
      "cell_type": "markdown",
      "metadata": {
        "id": "sovZS-q-Av7v",
        "colab_type": "text"
      },
      "source": [
        "Now, setup the environments."
      ]
    },
    {
      "cell_type": "code",
      "metadata": {
        "colab_type": "code",
        "id": "q6ou5TozyQWc",
        "colab": {}
      },
      "source": [
        "import sys\n",
        "import os\n",
        "sys.path.append('/usr/local/lib/python3.7/site-packages')"
      ],
      "execution_count": 0,
      "outputs": []
    },
    {
      "cell_type": "markdown",
      "metadata": {
        "id": "m50Xj4qqA0rd",
        "colab_type": "text"
      },
      "source": [
        "If the all packages have installed properly, the following text will be appeared in the next cell.\n",
        "\n",
        "`see Chem/index.html in the doc tree for documentation`"
      ]
    },
    {
      "cell_type": "code",
      "metadata": {
        "colab_type": "code",
        "id": "XjIInAZhzbNL",
        "colab": {}
      },
      "source": [
        "import numpy as np\n",
        "import pandas as pd\n",
        "import rdkit\n",
        "from rdkit import Chem\n",
        "# from rdkit import Chem\n",
        "\n",
        "print(Chem.__doc__)"
      ],
      "execution_count": 0,
      "outputs": []
    },
    {
      "cell_type": "markdown",
      "metadata": {
        "id": "eb-AkkabBM3c",
        "colab_type": "text"
      },
      "source": [
        "Prepare some more tools."
      ]
    },
    {
      "cell_type": "code",
      "metadata": {
        "colab_type": "code",
        "id": "rh02IQLDzc_D",
        "colab": {}
      },
      "source": [
        "from numpy import vectorize as vec\n",
        "import scipy as sp\n",
        "import sklearn\n",
        "from sklearn.model_selection import train_test_split\n",
        "import matplotlib\n",
        "import matplotlib.pyplot as plt\n",
        "%matplotlib inline\n",
        "import seaborn as sns\n",
        "\n",
        "from rdkit.Chem.Draw import IPythonConsole\n",
        "from rdkit.Chem import Descriptors,PandasTools\n"
      ],
      "execution_count": 0,
      "outputs": []
    },
    {
      "cell_type": "markdown",
      "metadata": {
        "id": "3FClGRvPZuHG",
        "colab_type": "text"
      },
      "source": [
        "### Tox21 data set"
      ]
    },
    {
      "cell_type": "markdown",
      "metadata": {
        "id": "JgTxG2jlBa7x",
        "colab_type": "text"
      },
      "source": [
        "Download a datafile `na-ar.sdf` from the link below.\n",
        "\n",
        "https://drive.google.com/uc?id=1ALUNDgAmpauEa0Oa6-6TOPAG_uDTy0HH&export=download\n",
        "\n",
        "Download a datafile `washed-nr-er.tsv` from the link below.\n",
        "\n",
        "https://docs.google.com/uc?id=1N-Qykm94hz8NFPppYgTYcQwiRhqJNimw&export=download\n",
        "\n",
        "Run the next cell. You will be ask to choose a file to upload, so upload the downloaded file from your local machine."
      ]
    },
    {
      "cell_type": "code",
      "metadata": {
        "colab_type": "code",
        "id": "O61XK6xazojr",
        "colab": {}
      },
      "source": [
        "from google.colab import files\n",
        "uploaded = files.upload()"
      ],
      "execution_count": 0,
      "outputs": []
    },
    {
      "cell_type": "markdown",
      "metadata": {
        "id": "86IHvHr0FmQ7",
        "colab_type": "text"
      },
      "source": [
        "Run the next cell to confirm the file is correctly uploaded. \n",
        "\n",
        "If it is uploaded, file size and file name will be shown."
      ]
    },
    {
      "cell_type": "code",
      "metadata": {
        "id": "h_vLS6c1FqEf",
        "colab_type": "code",
        "colab": {}
      },
      "source": [
        "! ls -la"
      ],
      "execution_count": 0,
      "outputs": []
    },
    {
      "cell_type": "markdown",
      "metadata": {
        "id": "pOGaUfODJRj9",
        "colab_type": "text"
      },
      "source": [
        "Next, read the uploaded molecule data.\n",
        "\n",
        "(Ignore the ERRORs on reading the file)\n",
        "\n",
        " `na-ar.sdf` is the original dataset.\n",
        "\n",
        "`washed-nr-er.tsv` is a curated dataset. Unproper entries such as duplicate entries, inorganic molecules etc. has removed."
      ]
    },
    {
      "cell_type": "code",
      "metadata": {
        "colab_type": "code",
        "id": "YTfUGD5Yz3TV",
        "colab": {}
      },
      "source": [
        "mols=PandasTools.LoadSDF('nr-ar.sdf',smilesName='SMILES',molColName='Molecule',includeFingerprints=True)\n"
      ],
      "execution_count": 0,
      "outputs": []
    },
    {
      "cell_type": "code",
      "metadata": {
        "id": "Uu7nacR2sy_C",
        "colab_type": "code",
        "colab": {}
      },
      "source": [
        "mols_washed = pd.read_csv('washed-nr-er.tsv')\n"
      ],
      "execution_count": 0,
      "outputs": []
    },
    {
      "cell_type": "markdown",
      "metadata": {
        "id": "3vFlSkCqTHGD",
        "colab_type": "text"
      },
      "source": [
        "Well, it's good to check detail data structures anytime you load new data."
      ]
    },
    {
      "cell_type": "code",
      "metadata": {
        "colab_type": "code",
        "id": "L_tydUgi03_L",
        "colab": {}
      },
      "source": [
        "mols.shape"
      ],
      "execution_count": 0,
      "outputs": []
    },
    {
      "cell_type": "markdown",
      "metadata": {
        "id": "0u1KdGMNuO9d",
        "colab_type": "text"
      },
      "source": [
        "mols_washed.shape"
      ]
    },
    {
      "cell_type": "code",
      "metadata": {
        "colab_type": "code",
        "id": "sla5QqE50oGz",
        "colab": {}
      },
      "source": [
        "mols.columns"
      ],
      "execution_count": 0,
      "outputs": []
    },
    {
      "cell_type": "markdown",
      "metadata": {
        "id": "byiQqSCOTYnh",
        "colab_type": "text"
      },
      "source": [
        "`head()` function is good method to browse a large data. "
      ]
    },
    {
      "cell_type": "code",
      "metadata": {
        "colab_type": "code",
        "id": "Fu5P_REM07vL",
        "colab": {}
      },
      "source": [
        "mols[['Active', 'DSSTox_CID', 'FW', 'Formula', 'ID', 'Molecule', 'SMILES']].head(2)"
      ],
      "execution_count": 0,
      "outputs": []
    },
    {
      "cell_type": "markdown",
      "metadata": {
        "id": "1uL0nBCyVYIq",
        "colab_type": "text"
      },
      "source": [
        "Well, this data was originaly obtained from Toxicology Testing in the 21st Century ([Tox21](https://www.epa.gov/chemical-research/toxicology-testing-21st-century-tox21) ) database, federal collaboration among EPA, NIH, including National Center for Advancing Translational Sciences and the National Toxicology Program at the National Institute of Environmental Health Sciences, and the Food and Drug Administration.\n",
        "\n",
        "They have been studied biological activity of thousands compounds to evaluate their toxicity and risk for human health.\n",
        "\n",
        "In this database, you can see the molecular formula, molecular structure, and also, binary data whether the molecule has toxic activity or not."
      ]
    },
    {
      "cell_type": "code",
      "metadata": {
        "id": "AQ3AOwXmKcUE",
        "colab_type": "code",
        "colab": {}
      },
      "source": [
        "mols['Active'][0:4]"
      ],
      "execution_count": 0,
      "outputs": []
    },
    {
      "cell_type": "code",
      "metadata": {
        "colab_type": "code",
        "id": "792sJXWc05Tb",
        "colab": {}
      },
      "source": [
        "print(\"Number of   active molecules:  \", list(mols.Active).count('1'))  #Active\n",
        "print(\"Number of inactive molecules:  \", list(mols.Active).count('0'))  #Inactive"
      ],
      "execution_count": 0,
      "outputs": []
    },
    {
      "cell_type": "markdown",
      "metadata": {
        "id": "K4WroYC5XWGp",
        "colab_type": "text"
      },
      "source": [
        "So, it would be nice if you can \"predict\" toxicity from molecular structure using some machine learning model. It will help to avoid dangerous chemicals and to find candidates of new drugs.\n",
        "\n",
        "However, molecular structures are so complex so that you would convert them into some numeric representation, so called molecular descriptors.\n",
        "\n",
        "Actually, there have been hundreds of \"molecular descriptors\" and it's still growing.\n",
        "\n",
        "Fortunately, some of them are already implemented in RDKit library."
      ]
    },
    {
      "cell_type": "code",
      "metadata": {
        "colab_type": "code",
        "id": "frq0UJHH0-OD",
        "colab": {}
      },
      "source": [
        "names = [x[0] for x in Descriptors._descList]\n",
        "print(\"Number of descriptors in the rdkit: \", len(names))\n",
        "np.array(names)[0:10]\n"
      ],
      "execution_count": 0,
      "outputs": []
    },
    {
      "cell_type": "code",
      "metadata": {
        "colab_type": "code",
        "id": "TqJfSEsk1Bez",
        "colab": {}
      },
      "source": [
        "for desc in ['TPSA','MaxPartialCharge','SlogP_VSA1','EState_VSA1','SMR_VSA1','MolLogP','MolMR','BalabanJ','Ipc','HallKierAlpha','Kappa1','Kappa2','Kappa3','RingCount','NumHAcceptors','NumHDonors']:\n",
        "    exec(\"mols[desc]=vec(Descriptors.{})(mols['Molecule'])\".format(desc))\n",
        "print(\"shape of data : {}\".format(mols.shape))\n"
      ],
      "execution_count": 0,
      "outputs": []
    },
    {
      "cell_type": "code",
      "metadata": {
        "colab_type": "code",
        "id": "tnL6AvB21Etz",
        "colab": {}
      },
      "source": [
        "print(mols.isnull().any())"
      ],
      "execution_count": 0,
      "outputs": []
    },
    {
      "cell_type": "code",
      "metadata": {
        "colab_type": "code",
        "id": "IL7cbV1g1Pec",
        "colab": {}
      },
      "source": [
        "mols_desc=mols.drop([\"MaxPartialCharge\",\"Ipc\",\"Kappa3\", \"Active\", \"DSSTox_CID\", \"FW\", \"Formula\", \"ID\", \"Molecule\", \"SMILES\"], axis=1)"
      ],
      "execution_count": 0,
      "outputs": []
    },
    {
      "cell_type": "markdown",
      "metadata": {
        "id": "U2xnANzfZT_M",
        "colab_type": "text"
      },
      "source": [
        "Let's see the distribution and correlation of some molecular features."
      ]
    },
    {
      "cell_type": "code",
      "metadata": {
        "colab_type": "code",
        "id": "0-to0enY1Sqb",
        "colab": {}
      },
      "source": [
        "def set_color(L):\n",
        "  tmp = []\n",
        "  for l in L:\n",
        "    if l == '1':\n",
        "      tmp.append(\"red\")\n",
        "    else:\n",
        "      tmp.append(\"palegreen\")\n",
        "  return tmp\n",
        "\n",
        "pd.plotting.scatter_matrix(mols_desc,figsize=(16,16), hist_kwds={'bins':15},  \n",
        "                           marker='+', s=8, alpha=.5, c=set_color(mols.Active))\n",
        "plt.show()"
      ],
      "execution_count": 0,
      "outputs": []
    },
    {
      "cell_type": "markdown",
      "metadata": {
        "id": "0-FQHFj_ZLpj",
        "colab_type": "text"
      },
      "source": [
        "### Classifier\n",
        "\n",
        "As for an exmaple, apply Random Forest Classifiler to classify the molecules by toxic or not."
      ]
    },
    {
      "cell_type": "markdown",
      "metadata": {
        "id": "D2iULMIgZ-rw",
        "colab_type": "text"
      },
      "source": [
        "For validation, it is important to separate training data and test data."
      ]
    },
    {
      "cell_type": "code",
      "metadata": {
        "colab_type": "code",
        "id": "crujHDSB1VO7",
        "colab": {}
      },
      "source": [
        "X_train, X_test, y_train, y_test = train_test_split(mols_desc, mols.Active, train_size=0.75, test_size=0.25)"
      ],
      "execution_count": 0,
      "outputs": []
    },
    {
      "cell_type": "code",
      "metadata": {
        "colab_type": "code",
        "id": "aru1eZKX1hRb",
        "colab": {}
      },
      "source": [
        "print(\"Training Data\")\n",
        "print(\"Number of   active molecules:  \", list(y_train).count('1'))\n",
        "print(\"Number of inactive molecules:  \", list(y_train).count('0'))\n",
        "print(\"Test Data\")\n",
        "print(\"Number of   active molecules:  \", list(y_test).count('1'))\n",
        "print(\"Number of inactive molecules:  \", list(y_test).count('0'))"
      ],
      "execution_count": 0,
      "outputs": []
    },
    {
      "cell_type": "markdown",
      "metadata": {
        "id": "Z81k2b1jaNGG",
        "colab_type": "text"
      },
      "source": [
        "### Random Forest\n",
        "\n",
        "Actrually, algorithms of [Random Forest](https://en.wikipedia.org/wiki/Random_forest) is not very simple. I would not explain in detail here.\n",
        "\n",
        "Fortunately, this method is implemented in [scikit-learn](https://scikit-learn.org/stable/) library.\n",
        "\n",
        "It's easy to use. Give the training and target data to the model."
      ]
    },
    {
      "cell_type": "code",
      "metadata": {
        "colab_type": "code",
        "id": "9XtBK1bC1xwr",
        "colab": {}
      },
      "source": [
        "from sklearn.ensemble import RandomForestClassifier\n",
        "model = RandomForestClassifier(random_state=0)\n",
        "model.fit(X_train, y_train)\n"
      ],
      "execution_count": 0,
      "outputs": []
    },
    {
      "cell_type": "markdown",
      "metadata": {
        "id": "_dK0bnrcgvV2",
        "colab_type": "text"
      },
      "source": [
        "Now evaluate the results.\n",
        "\n",
        "It isn't bad, is it?"
      ]
    },
    {
      "cell_type": "code",
      "metadata": {
        "colab_type": "code",
        "id": "Q5djMqCw18Nb",
        "colab": {}
      },
      "source": [
        "print(\"Accuracy on training set: {:.3f}\".format(model.score(X_train, y_train)))\n",
        "print(\"Accuracy on test set:     {:.3f}\".format(model.score(X_test , y_test)))\n",
        "df = pd.DataFrame(model.feature_importances_, index = X_train.columns)\n",
        "df"
      ],
      "execution_count": 0,
      "outputs": []
    },
    {
      "cell_type": "markdown",
      "metadata": {
        "id": "YkxAMT6ec-XD",
        "colab_type": "text"
      },
      "source": [
        "In scikit-learn library there are hundreds of tools and algorithms have been implemented. You may choose other models and methods to predict / classify molecules using chemical descriptors.\n",
        "\n",
        "There is no magic algorithm that can solve every problems of machine learning. \n"
      ]
    },
    {
      "cell_type": "code",
      "metadata": {
        "colab_type": "code",
        "id": "__V0w3Vd1_oy",
        "colab": {}
      },
      "source": [
        ""
      ],
      "execution_count": 0,
      "outputs": []
    }
  ]
}