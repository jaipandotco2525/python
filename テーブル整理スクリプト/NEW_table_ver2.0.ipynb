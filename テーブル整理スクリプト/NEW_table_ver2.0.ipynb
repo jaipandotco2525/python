{
 "cells": [
  {
   "cell_type": "code",
   "execution_count": 2,
   "metadata": {},
   "outputs": [],
   "source": [
    "#モジュールをimportする\n",
    "import os\n",
    "import openpyxl as xl\n",
    "import pandas as pd\n",
    "from openpyxl.styles import Alignment, PatternFill, Font, Border, Side\n",
    "import datetime"
   ]
  },
  {
   "cell_type": "code",
   "execution_count": 5,
   "metadata": {},
   "outputs": [],
   "source": [
    "#os.chdirは任意。\n",
    "File_name = \"顧客デモ\"\n",
    "csv_name = File_name + \".csv\"\n",
    "os.chdir(\"C:\\\\SuperBox\\\\work\\\\data\\\\tanaka\\\\\")\n",
    "File_encoding = \"cp932\""
   ]
  },
  {
   "cell_type": "code",
   "execution_count": 6,
   "metadata": {},
   "outputs": [
    {
     "data": {
      "text/html": [
       "<div>\n",
       "<style scoped>\n",
       "    .dataframe tbody tr th:only-of-type {\n",
       "        vertical-align: middle;\n",
       "    }\n",
       "\n",
       "    .dataframe tbody tr th {\n",
       "        vertical-align: top;\n",
       "    }\n",
       "\n",
       "    .dataframe thead th {\n",
       "        text-align: right;\n",
       "    }\n",
       "</style>\n",
       "<table border=\"1\" class=\"dataframe\">\n",
       "  <thead>\n",
       "    <tr style=\"text-align: right;\">\n",
       "      <th></th>\n",
       "      <th>//CUTTOP</th>\n",
       "    </tr>\n",
       "  </thead>\n",
       "  <tbody>\n",
       "    <tr>\n",
       "      <th>0</th>\n",
       "      <td>I\\t1\\t顧客番号</td>\n",
       "    </tr>\n",
       "    <tr>\n",
       "      <th>1</th>\n",
       "      <td>A\\t1\\t姓</td>\n",
       "    </tr>\n",
       "    <tr>\n",
       "      <th>2</th>\n",
       "      <td>A\\t1\\tカナ姓</td>\n",
       "    </tr>\n",
       "    <tr>\n",
       "      <th>3</th>\n",
       "      <td>A\\t1\\t名</td>\n",
       "    </tr>\n",
       "    <tr>\n",
       "      <th>4</th>\n",
       "      <td>A\\t1\\tカナ名</td>\n",
       "    </tr>\n",
       "  </tbody>\n",
       "</table>\n",
       "</div>"
      ],
      "text/plain": [
       "     //CUTTOP\n",
       "0  I\\t1\\t顧客番号\n",
       "1     A\\t1\\t姓\n",
       "2   A\\t1\\tカナ姓\n",
       "3     A\\t1\\t名\n",
       "4   A\\t1\\tカナ名"
      ]
     },
     "execution_count": 6,
     "metadata": {},
     "output_type": "execute_result"
    }
   ],
   "source": [
    "#StructInfo.txtを読込む\n",
    "df_1 = pd.read_csv(File_name + \"\\\\StructInfo.txt\", encoding = File_encoding,skiprows=4)\n",
    "df_1.head()"
   ]
  },
  {
   "cell_type": "code",
   "execution_count": 7,
   "metadata": {},
   "outputs": [
    {
     "name": "stdout",
     "output_type": "stream",
     "text": [
      "20\n"
     ]
    }
   ],
   "source": [
    "#6行目以降の行数を数える\n",
    "#全ての行数を数えて-5をすると、6行目以降の行数が数えられる\n",
    "koumoku = len(df_1)\n",
    "print(koumoku)"
   ]
  },
  {
   "cell_type": "code",
   "execution_count": 8,
   "metadata": {},
   "outputs": [
    {
     "name": "stdout",
     "output_type": "stream",
     "text": [
      "2200000\n"
     ]
    }
   ],
   "source": [
    "#レコード件数\n",
    "#元のCSVを読込んで行数を数える\n",
    "df_2 = pd.read_csv(csv_name, encoding = File_encoding)\n",
    "record = len(df_2)\n",
    "print(record)"
   ]
  },
  {
   "cell_type": "code",
   "execution_count": 9,
   "metadata": {},
   "outputs": [
    {
     "name": "stdout",
     "output_type": "stream",
     "text": [
      "MS932\n",
      "\n"
     ]
    }
   ],
   "source": [
    "#文字コード\n",
    "#StructInfoの3行目の文字コードを抜く\n",
    "with open(File_name + \"\\\\StructInfo.txt\" ,\"r\",encoding = File_encoding) as f:\n",
    "    data = f.readlines()[2]\n",
    "code=data[2:]\n",
    "print(code)\n",
    "\n",
    "#文字列置換（2文字目以降を読込むと、”//”を除いた文字コードのみを抽出できる）\n",
    "#str[2:]"
   ]
  },
  {
   "cell_type": "code",
   "execution_count": 10,
   "metadata": {},
   "outputs": [
    {
     "name": "stdout",
     "output_type": "stream",
     "text": [
      "{'姓': 'object', 'カナ姓': 'object', '名': 'object', 'カナ名': 'object', '性別': 'object', '電話番号': 'object', '携帯電話番号': 'object', 'Mailアドレス': 'object', '住所': 'object', '最終DM名称': 'object', 'DM戻り': 'object', 'DM拒否': 'object', 'メルマガ拒否': 'object', '削除フラグ': 'object'}\n",
      "      項目名称   No       顧客番号  顧客番号件数     姓  姓件数       カナ姓  カナ姓件数       名   名件数  \\\n",
      "0   値（５０件）  1.0        1.0     NaN    田中  NaN       タナカ    NaN      翔平   NaN   \n",
      "1   値（５０件）  2.0        3.0     NaN    伊藤  NaN       イトウ    NaN     あい花   NaN   \n",
      "2   値（５０件）  3.0        5.0     NaN    山本  NaN      ヤマモト    NaN       翼   NaN   \n",
      "3   値（５０件）  4.0        6.0     NaN    小林  NaN      コバヤシ    NaN      大介   NaN   \n",
      "4   値（５０件）  5.0        7.0     NaN    山田  NaN       ヤマダ    NaN      裕介   NaN   \n",
      "..     ...  ...        ...     ...   ...  ...       ...    ...     ...   ...   \n",
      "76    最大桁数  1.0  2539744.0     7.0  八木ケ谷  8.0  ヨンジュウキュウ   16.0  ユウイチロウ  12.0   \n",
      "77    最大桁数  2.0  2539743.0     7.0  八月朔日  8.0   ワカヤナギキチ   14.0  シンイチロウ  12.0   \n",
      "78    最大桁数  3.0  2539742.0     7.0  波々伯部  8.0   ヨンジュウマン   14.0  コウイチロウ  12.0   \n",
      "79    最大桁数  4.0  2539741.0     7.0  日根野谷  8.0   メグムサイワイ   14.0  りょうたろう  12.0   \n",
      "80    最大桁数  5.0  2539739.0     7.0  日ケ久保  8.0   ホンジョウダニ   14.0  りゅうのすけ  12.0   \n",
      "\n",
      "    ... DM拒否  DM拒否件数 メルマガ拒否  メルマガ拒否件数  削除フラグ  削除フラグ件数               最終更新日時  \\\n",
      "0   ...    N     NaN      N       NaN      N      NaN  2018/03/29 07:10:01   \n",
      "1   ...    N     NaN      N       NaN      N      NaN  2012/11/12 07:11:38   \n",
      "2   ...    N     NaN      N       NaN      N      NaN  2019/01/11 07:05:58   \n",
      "3   ...    N     NaN      N       NaN      N      NaN  2018/09/21 07:13:20   \n",
      "4   ...    N     NaN      N       NaN      N      NaN  2016/03/01 16:00:39   \n",
      "..  ...  ...     ...    ...       ...    ...      ...                  ...   \n",
      "76  ...    Y     1.0      Y       1.0      N      1.0  2019/01/30 18:34:07   \n",
      "77  ...    N     1.0      N       1.0    NaN      NaN  2019/01/30 18:33:59   \n",
      "78  ...  NaN     NaN    NaN       NaN    NaN      NaN  2019/01/30 18:33:51   \n",
      "79  ...  NaN     NaN    NaN       NaN    NaN      NaN  2019/01/30 18:32:59   \n",
      "80  ...  NaN     NaN    NaN       NaN    NaN      NaN  2019/01/30 18:28:59   \n",
      "\n",
      "    最終更新日時件数                 作成日時  作成日時件数  \n",
      "0        NaN  2010/03/29 07:10:01     NaN  \n",
      "1        NaN  2007/11/14 07:11:38     NaN  \n",
      "2        NaN  2010/03/08 07:05:58     NaN  \n",
      "3        NaN  2010/01/31 07:13:20     NaN  \n",
      "4        NaN  2011/03/03 16:00:39     NaN  \n",
      "..       ...                  ...     ...  \n",
      "76      19.0  2013/01/29 07:18:44    19.0  \n",
      "77      19.0  2013/01/29 07:17:18    19.0  \n",
      "78      19.0  2013/01/29 07:16:03    19.0  \n",
      "79      19.0  2013/01/29 07:15:35    19.0  \n",
      "80      19.0  2013/01/29 07:13:57    19.0  \n",
      "\n",
      "[81 rows x 42 columns]\n"
     ]
    }
   ],
   "source": [
    "#オブジェクトにする\n",
    "N=0\n",
    "area3 = {}\n",
    "with open(File_name + \"\\\\StructInfo.txt\",\"r\",encoding = File_encoding) as f:\n",
    "    for line in f:\n",
    "        if N > 5:\n",
    "            temp = line.split()\n",
    "            if temp[0] == 'A':\n",
    "                area3[temp[2]]=\"object\"        \n",
    "        N = N+1\n",
    "print(area3)\n",
    "\n",
    "df_area = pd.read_csv(\"テーブル_\" + csv_name, encoding = File_encoding ,dtype=area3)\n",
    "print(df_area)\n"
   ]
  },
  {
   "cell_type": "code",
   "execution_count": 11,
   "metadata": {},
   "outputs": [],
   "source": [
    "df_area.to_excel(\"test.xlsx\",encoding = File_encoding,index = False)"
   ]
  },
  {
   "cell_type": "code",
   "execution_count": 12,
   "metadata": {},
   "outputs": [
    {
     "name": "stdout",
     "output_type": "stream",
     "text": [
      "0     I\n",
      "1     A\n",
      "2     A\n",
      "3     A\n",
      "4     A\n",
      "5     A\n",
      "6     I\n",
      "7     A\n",
      "8     A\n",
      "9     A\n",
      "10    I\n",
      "11    A\n",
      "12    A\n",
      "13    I\n",
      "14    A\n",
      "15    A\n",
      "16    A\n",
      "17    A\n",
      "18    E\n",
      "19    E\n",
      "Name: //CUTTOP, dtype: object\n"
     ]
    }
   ],
   "source": [
    "#一文字目のみ抜きだす\n",
    "tyu=df_1['//CUTTOP'].str[0]\n",
    "print(tyu)"
   ]
  },
  {
   "cell_type": "code",
   "execution_count": 13,
   "metadata": {},
   "outputs": [],
   "source": [
    "#structinfoから一文字目のみを抜き出した\n",
    "tyu.to_csv(\"struct_tyusyutu.txt\",encoding = File_encoding,index = False,header = False,sep ='\\t')"
   ]
  },
  {
   "cell_type": "code",
   "execution_count": 14,
   "metadata": {},
   "outputs": [
    {
     "name": "stdout",
     "output_type": "stream",
     "text": [
      "['I', 'A', 'A', 'A', 'A', 'A', 'I', 'A', 'A', 'A', 'I', 'A', 'A', 'I', 'A', 'A', 'A', 'A', 'E', 'E']\n"
     ]
    }
   ],
   "source": [
    "#テキストのリスト化\n",
    "f = open('struct_tyusyutu.txt')\n",
    "area = f.read().split()\n",
    "print(area)"
   ]
  },
  {
   "cell_type": "code",
   "execution_count": 15,
   "metadata": {},
   "outputs": [],
   "source": [
    "#structinfoから一文字目のみを抜き出した\n",
    "tyu.to_csv(\"struct_tyusyutu.txt\",encoding = File_encoding,index = False,header = False,sep ='\\t')"
   ]
  },
  {
   "cell_type": "code",
   "execution_count": 16,
   "metadata": {},
   "outputs": [
    {
     "name": "stdout",
     "output_type": "stream",
     "text": [
      "['I', 'A', 'A', 'A', 'A', 'A', 'I', 'A', 'A', 'A', 'I', 'A', 'A', 'I', 'A', 'A', 'A', 'A', 'E', 'E']\n"
     ]
    }
   ],
   "source": [
    "#テキストのリスト化\n",
    "f = open('struct_tyusyutu.txt')\n",
    "area = f.read().split()\n",
    "print(area)"
   ]
  },
  {
   "cell_type": "code",
   "execution_count": 17,
   "metadata": {},
   "outputs": [
    {
     "data": {
      "text/html": [
       "<div>\n",
       "<style scoped>\n",
       "    .dataframe tbody tr th:only-of-type {\n",
       "        vertical-align: middle;\n",
       "    }\n",
       "\n",
       "    .dataframe tbody tr th {\n",
       "        vertical-align: top;\n",
       "    }\n",
       "\n",
       "    .dataframe thead th {\n",
       "        text-align: right;\n",
       "    }\n",
       "</style>\n",
       "<table border=\"1\" class=\"dataframe\">\n",
       "  <thead>\n",
       "    <tr style=\"text-align: right;\">\n",
       "      <th></th>\n",
       "      <th>項目名称</th>\n",
       "      <th>No</th>\n",
       "      <th>顧客番号</th>\n",
       "      <th>顧客番号件数</th>\n",
       "      <th>姓</th>\n",
       "      <th>姓件数</th>\n",
       "      <th>カナ姓</th>\n",
       "      <th>カナ姓件数</th>\n",
       "      <th>名</th>\n",
       "      <th>名件数</th>\n",
       "      <th>...</th>\n",
       "      <th>DM拒否</th>\n",
       "      <th>DM拒否件数</th>\n",
       "      <th>メルマガ拒否</th>\n",
       "      <th>メルマガ拒否件数</th>\n",
       "      <th>削除フラグ</th>\n",
       "      <th>削除フラグ件数</th>\n",
       "      <th>最終更新日時</th>\n",
       "      <th>最終更新日時件数</th>\n",
       "      <th>作成日時</th>\n",
       "      <th>作成日時件数</th>\n",
       "    </tr>\n",
       "  </thead>\n",
       "  <tbody>\n",
       "    <tr>\n",
       "      <th>0</th>\n",
       "      <td>値（５０件）</td>\n",
       "      <td>1.0</td>\n",
       "      <td>1.0</td>\n",
       "      <td>NaN</td>\n",
       "      <td>田中</td>\n",
       "      <td>NaN</td>\n",
       "      <td>タナカ</td>\n",
       "      <td>NaN</td>\n",
       "      <td>翔平</td>\n",
       "      <td>NaN</td>\n",
       "      <td>...</td>\n",
       "      <td>N</td>\n",
       "      <td>NaN</td>\n",
       "      <td>N</td>\n",
       "      <td>NaN</td>\n",
       "      <td>N</td>\n",
       "      <td>NaN</td>\n",
       "      <td>2018/03/29 07:10:01</td>\n",
       "      <td>NaN</td>\n",
       "      <td>2010/03/29 07:10:01</td>\n",
       "      <td>NaN</td>\n",
       "    </tr>\n",
       "    <tr>\n",
       "      <th>1</th>\n",
       "      <td>値（５０件）</td>\n",
       "      <td>2.0</td>\n",
       "      <td>3.0</td>\n",
       "      <td>NaN</td>\n",
       "      <td>伊藤</td>\n",
       "      <td>NaN</td>\n",
       "      <td>イトウ</td>\n",
       "      <td>NaN</td>\n",
       "      <td>あい花</td>\n",
       "      <td>NaN</td>\n",
       "      <td>...</td>\n",
       "      <td>N</td>\n",
       "      <td>NaN</td>\n",
       "      <td>N</td>\n",
       "      <td>NaN</td>\n",
       "      <td>N</td>\n",
       "      <td>NaN</td>\n",
       "      <td>2012/11/12 07:11:38</td>\n",
       "      <td>NaN</td>\n",
       "      <td>2007/11/14 07:11:38</td>\n",
       "      <td>NaN</td>\n",
       "    </tr>\n",
       "    <tr>\n",
       "      <th>2</th>\n",
       "      <td>値（５０件）</td>\n",
       "      <td>3.0</td>\n",
       "      <td>5.0</td>\n",
       "      <td>NaN</td>\n",
       "      <td>山本</td>\n",
       "      <td>NaN</td>\n",
       "      <td>ヤマモト</td>\n",
       "      <td>NaN</td>\n",
       "      <td>翼</td>\n",
       "      <td>NaN</td>\n",
       "      <td>...</td>\n",
       "      <td>N</td>\n",
       "      <td>NaN</td>\n",
       "      <td>N</td>\n",
       "      <td>NaN</td>\n",
       "      <td>N</td>\n",
       "      <td>NaN</td>\n",
       "      <td>2019/01/11 07:05:58</td>\n",
       "      <td>NaN</td>\n",
       "      <td>2010/03/08 07:05:58</td>\n",
       "      <td>NaN</td>\n",
       "    </tr>\n",
       "    <tr>\n",
       "      <th>3</th>\n",
       "      <td>値（５０件）</td>\n",
       "      <td>4.0</td>\n",
       "      <td>6.0</td>\n",
       "      <td>NaN</td>\n",
       "      <td>小林</td>\n",
       "      <td>NaN</td>\n",
       "      <td>コバヤシ</td>\n",
       "      <td>NaN</td>\n",
       "      <td>大介</td>\n",
       "      <td>NaN</td>\n",
       "      <td>...</td>\n",
       "      <td>N</td>\n",
       "      <td>NaN</td>\n",
       "      <td>N</td>\n",
       "      <td>NaN</td>\n",
       "      <td>N</td>\n",
       "      <td>NaN</td>\n",
       "      <td>2018/09/21 07:13:20</td>\n",
       "      <td>NaN</td>\n",
       "      <td>2010/01/31 07:13:20</td>\n",
       "      <td>NaN</td>\n",
       "    </tr>\n",
       "    <tr>\n",
       "      <th>4</th>\n",
       "      <td>値（５０件）</td>\n",
       "      <td>5.0</td>\n",
       "      <td>7.0</td>\n",
       "      <td>NaN</td>\n",
       "      <td>山田</td>\n",
       "      <td>NaN</td>\n",
       "      <td>ヤマダ</td>\n",
       "      <td>NaN</td>\n",
       "      <td>裕介</td>\n",
       "      <td>NaN</td>\n",
       "      <td>...</td>\n",
       "      <td>N</td>\n",
       "      <td>NaN</td>\n",
       "      <td>N</td>\n",
       "      <td>NaN</td>\n",
       "      <td>N</td>\n",
       "      <td>NaN</td>\n",
       "      <td>2016/03/01 16:00:39</td>\n",
       "      <td>NaN</td>\n",
       "      <td>2011/03/03 16:00:39</td>\n",
       "      <td>NaN</td>\n",
       "    </tr>\n",
       "  </tbody>\n",
       "</table>\n",
       "<p>5 rows × 42 columns</p>\n",
       "</div>"
      ],
      "text/plain": [
       "     項目名称   No  顧客番号  顧客番号件数   姓  姓件数   カナ姓  カナ姓件数    名  名件数  ... DM拒否  \\\n",
       "0  値（５０件）  1.0   1.0     NaN  田中  NaN   タナカ    NaN   翔平  NaN  ...    N   \n",
       "1  値（５０件）  2.0   3.0     NaN  伊藤  NaN   イトウ    NaN  あい花  NaN  ...    N   \n",
       "2  値（５０件）  3.0   5.0     NaN  山本  NaN  ヤマモト    NaN    翼  NaN  ...    N   \n",
       "3  値（５０件）  4.0   6.0     NaN  小林  NaN  コバヤシ    NaN   大介  NaN  ...    N   \n",
       "4  値（５０件）  5.0   7.0     NaN  山田  NaN   ヤマダ    NaN   裕介  NaN  ...    N   \n",
       "\n",
       "   DM拒否件数 メルマガ拒否  メルマガ拒否件数  削除フラグ  削除フラグ件数               最終更新日時  最終更新日時件数  \\\n",
       "0     NaN      N       NaN      N      NaN  2018/03/29 07:10:01       NaN   \n",
       "1     NaN      N       NaN      N      NaN  2012/11/12 07:11:38       NaN   \n",
       "2     NaN      N       NaN      N      NaN  2019/01/11 07:05:58       NaN   \n",
       "3     NaN      N       NaN      N      NaN  2018/09/21 07:13:20       NaN   \n",
       "4     NaN      N       NaN      N      NaN  2016/03/01 16:00:39       NaN   \n",
       "\n",
       "                  作成日時  作成日時件数  \n",
       "0  2010/03/29 07:10:01     NaN  \n",
       "1  2007/11/14 07:11:38     NaN  \n",
       "2  2010/03/08 07:05:58     NaN  \n",
       "3  2010/01/31 07:13:20     NaN  \n",
       "4  2011/03/03 16:00:39     NaN  \n",
       "\n",
       "[5 rows x 42 columns]"
      ]
     },
     "execution_count": 17,
     "metadata": {},
     "output_type": "execute_result"
    }
   ],
   "source": [
    "#リスト部分のみ抽出用\n",
    "df_area.head()"
   ]
  },
  {
   "cell_type": "code",
   "execution_count": 18,
   "metadata": {},
   "outputs": [
    {
     "name": "stdout",
     "output_type": "stream",
     "text": [
      "50\n",
      "5\n",
      "5\n",
      "5\n",
      "5\n",
      "5\n",
      "5\n"
     ]
    }
   ],
   "source": [
    "#セル結合はなしで、罫線を引く＋重複した値を消す方針で書く\n",
    "#まずは、\"値\"と名の付くセルの数を抽出する\n",
    "atai=(df_area[\"項目名称\"].str.contains(\"値（\").sum())\n",
    "\n",
    "print(atai)\n",
    "sy_i=(df_area[\"項目名称\"].str.contains(\"最小値\").sum())\n",
    "\n",
    "print(sy_i)\n",
    "\n",
    "sa_i=(df_area[\"項目名称\"].str.contains(\"最大値\").sum())\n",
    "\n",
    "print(sa_i)\n",
    "\n",
    "sy_u=(df_area[\"項目名称\"].str.contains(\"最小件数\").sum())\n",
    "\n",
    "print(sy_u)\n",
    "\n",
    "sa_u=(df_area[\"項目名称\"].str.contains(\"最大件数\").sum())\n",
    "\n",
    "print(sa_u)\n",
    "\n",
    "sy_a=(df_area[\"項目名称\"].str.contains(\"最小桁数\").sum())\n",
    "\n",
    "print(sy_a)\n",
    "\n",
    "sa_a=(df_area[\"項目名称\"].str.contains(\"最大桁数\").sum())\n",
    "\n",
    "print(sa_a)"
   ]
  },
  {
   "cell_type": "code",
   "execution_count": 19,
   "metadata": {},
   "outputs": [],
   "source": [
    "#excel形式に変換\n",
    "df_area.to_excel(\"test_original.xlsx\",encoding = File_encoding,index = False)"
   ]
  },
  {
   "cell_type": "code",
   "execution_count": 20,
   "metadata": {},
   "outputs": [],
   "source": [
    "#Excelを開く\n",
    "wb1=xl.load_workbook(\"test_original.xlsx\")\n",
    "sh = wb1['Sheet1']"
   ]
  },
  {
   "cell_type": "code",
   "execution_count": 21,
   "metadata": {},
   "outputs": [],
   "source": [
    "#太字を修正する\n",
    "#for row in sh.iter_rows(2,2,min_col=sh.min_column,max_col=sh.max_column):\n",
    "#    for cell in row:\n",
    "#        cell.font = Font(bold=False)"
   ]
  },
  {
   "cell_type": "code",
   "execution_count": 22,
   "metadata": {},
   "outputs": [],
   "source": [
    "#タイトル行を追加\n",
    "sh.insert_rows(1)\n",
    "sh.insert_rows(1)\n",
    "sh.insert_rows(1)\n",
    "sh.insert_rows(1)\n",
    "sh.insert_rows(1)"
   ]
  },
  {
   "cell_type": "code",
   "execution_count": 23,
   "metadata": {},
   "outputs": [],
   "source": [
    "#タイトルの名前\n",
    "sh['A1']=\"テーブル内容確認リスト\""
   ]
  },
  {
   "cell_type": "code",
   "execution_count": 24,
   "metadata": {},
   "outputs": [],
   "source": [
    "#df_city = pd.DataFrame([['項目数', koumoku], ['テーブル名称', File_name], ['レコード件数', record],['文字コード', code]])\n",
    "sh['A2']=\"項目数\"\n",
    "sh['B2']=koumoku\n",
    "\n",
    "sh['A3']=\"テーブル名称\"\n",
    "sh['B3']=File_name\n",
    "\n",
    "sh['A4']=\"レコード件数\"\n",
    "sh['B4']=record\n",
    "\n",
    "sh['A5']=\"文字コード\"\n",
    "sh['B5']=code\n"
   ]
  },
  {
   "cell_type": "code",
   "execution_count": 25,
   "metadata": {},
   "outputs": [],
   "source": [
    "#出来てるかのテスト\n",
    "wb1.save('data_test.xlsx')"
   ]
  },
  {
   "cell_type": "code",
   "execution_count": 26,
   "metadata": {},
   "outputs": [],
   "source": [
    "#結合部分のみ左寄せ\n",
    "#for rows in sh[\"A1\":\"B1\"]:\n",
    "#    for cell in rows:\n",
    "#        cell.alignment = Alignment(horizontal=\"left\",vertical='center')"
   ]
  },
  {
   "cell_type": "code",
   "execution_count": 27,
   "metadata": {},
   "outputs": [],
   "source": [
    "#test\n",
    "wb1.save('data_test.xlsx')"
   ]
  },
  {
   "cell_type": "code",
   "execution_count": 28,
   "metadata": {},
   "outputs": [],
   "source": [
    "#1列目に色を付ける（タイトル以外）\n",
    "for rows in sh[\"A2\":\"A5\"]:\n",
    "    for cell in rows:\n",
    "        #セル背景色\n",
    "        cell.fill = PatternFill(patternType=\"solid\", fgColor='d3d3d3')"
   ]
  },
  {
   "cell_type": "code",
   "execution_count": 29,
   "metadata": {},
   "outputs": [],
   "source": [
    "#罫線を引く\n",
    "side = Side(style=\"thin\", color=\"000000\")\n",
    "border = Border(left=side, right=side, top=side, bottom=side)\n",
    "for row in sh[\"A2\":\"B5\"]:\n",
    "    for cell in row:\n",
    "        cell.border = border"
   ]
  },
  {
   "cell_type": "code",
   "execution_count": 30,
   "metadata": {},
   "outputs": [],
   "source": [
    "#ここまでの経過を保存する、その1\n",
    "wb1.save('newlist_1.xlsx')"
   ]
  },
  {
   "cell_type": "code",
   "execution_count": 31,
   "metadata": {},
   "outputs": [],
   "source": [
    "#追加行を作成する\n",
    "sh.insert_rows(6)\n",
    "sh.insert_rows(6)\n",
    "sh.insert_rows(9)\n",
    "sh.insert_rows(9)"
   ]
  },
  {
   "cell_type": "code",
   "execution_count": 32,
   "metadata": {},
   "outputs": [],
   "source": [
    "#test（行挿入確認）\n",
    "wb1.save('newlist_2.xlsx')"
   ]
  },
  {
   "cell_type": "code",
   "execution_count": 33,
   "metadata": {},
   "outputs": [
    {
     "name": "stdout",
     "output_type": "stream",
     "text": [
      "91\n",
      "42\n",
      "7\n",
      "1\n"
     ]
    }
   ],
   "source": [
    "#最大行と最大列を取得\n",
    "max_row = sh.max_row\n",
    "max_col = sh.max_column\n",
    "min_row = sh.min_row+6\n",
    "min_col = sh.min_column\n",
    "print(max_row)\n",
    "print(max_col)\n",
    "print(min_row)\n",
    "print(min_col)"
   ]
  },
  {
   "cell_type": "code",
   "execution_count": 34,
   "metadata": {},
   "outputs": [],
   "source": [
    "#値や最大値等の個数を抜き出したので、利用して重複した文字のセルの値を空にする。\n",
    "for row in sh.iter_rows(min_row+5,min_row+atai+3,min_col,min_col):\n",
    "    for cell in row:\n",
    "        cell.value = None"
   ]
  },
  {
   "cell_type": "code",
   "execution_count": 35,
   "metadata": {},
   "outputs": [],
   "source": [
    "wb1.save('newlist_3.xlsx')"
   ]
  },
  {
   "cell_type": "code",
   "execution_count": 36,
   "metadata": {},
   "outputs": [],
   "source": [
    "for row in sh.iter_rows(min_row+atai+6,min_row+atai+sy_i+4,min_col,min_col):\n",
    "    for cell in row:\n",
    "        cell.value = None"
   ]
  },
  {
   "cell_type": "code",
   "execution_count": 37,
   "metadata": {},
   "outputs": [],
   "source": [
    "for row in sh.iter_rows(min_row+atai+sy_i+6,min_row+atai+sy_i+sa_i+4,min_col,min_col):\n",
    "    for cell in row:\n",
    "        cell.value = None"
   ]
  },
  {
   "cell_type": "code",
   "execution_count": 38,
   "metadata": {},
   "outputs": [],
   "source": [
    "for row in sh.iter_rows(min_row+atai+sy_i+sa_i+6,min_row+atai+sy_i+sa_i+sy_u+4,min_col,min_col):\n",
    "    for cell in row:\n",
    "        cell.value = None"
   ]
  },
  {
   "cell_type": "code",
   "execution_count": 39,
   "metadata": {},
   "outputs": [],
   "source": [
    "for row in sh.iter_rows(min_row+atai+sy_i+sa_i+sy_u+6,min_row+atai+sy_i+sa_i+sy_u+sa_u+4,min_col,min_col):\n",
    "    for cell in row:\n",
    "        cell.value = None"
   ]
  },
  {
   "cell_type": "code",
   "execution_count": 40,
   "metadata": {},
   "outputs": [],
   "source": [
    "for row in sh.iter_rows(min_row+atai+sy_i+sa_i+sy_u+sa_u+6,min_row+atai+sy_i+sa_i+sy_u+sa_u+sy_a+4,min_col,min_col):\n",
    "    for cell in row:\n",
    "        cell.value = None"
   ]
  },
  {
   "cell_type": "code",
   "execution_count": 41,
   "metadata": {},
   "outputs": [],
   "source": [
    "for row in sh.iter_rows(min_row+atai+sy_i+sa_i+sy_u+sa_u+sy_a+6,min_row+atai+sy_i+sa_i+sy_u+sa_u+sy_a+sa_a+4,min_col,min_col):\n",
    "    for cell in row:\n",
    "        cell.value = None"
   ]
  },
  {
   "cell_type": "code",
   "execution_count": 42,
   "metadata": {},
   "outputs": [],
   "source": [
    "wb1.save('List_test2_new.xlsx')"
   ]
  },
  {
   "cell_type": "code",
   "execution_count": 43,
   "metadata": {},
   "outputs": [],
   "source": [
    "#罫線を引くリスト部分B列5行目から最後の列・行まで\n",
    "#すべてのセルに対してleft,right,top,bottomの条件で線を引く→今のところはこの方法を採用している。\n",
    "\n",
    "side = Side(style=\"thin\", color=\"000000\")\n",
    "border = Border(left=side, right=side, top=side, bottom=side)\n",
    "border2 = Border(left=side, right=side, top=side)\n",
    "border3 = Border(left=side, right=side)\n",
    "for row in sh.iter_rows(min_row+3,max_row,min_col+1,max_col):\n",
    "    for cell in row:\n",
    "        cell.border = border"
   ]
  },
  {
   "cell_type": "code",
   "execution_count": 44,
   "metadata": {},
   "outputs": [],
   "source": [
    "wb1.save('List_test3_new.xlsx')"
   ]
  },
  {
   "cell_type": "code",
   "execution_count": 45,
   "metadata": {},
   "outputs": [],
   "source": [
    "#リスト部分A列5行目からA列の最後まで\n",
    "#問題が発生した場合 (left,right,top,bottom)、(left,top,bottom)、(right,top,bottom)、(top,bottom)の4パターンに分ける。\n",
    "for row in sh.iter_rows(min_row+4,max_row,min_col,min_col):\n",
    "    for cell in row:\n",
    "        if sh[cell.coordinate].value:\n",
    "            sh[cell.coordinate].border = border2\n",
    "        else:\n",
    "            cell.border = border3"
   ]
  },
  {
   "cell_type": "code",
   "execution_count": 46,
   "metadata": {},
   "outputs": [],
   "source": [
    "wb1.save('List_test4_new.xlsx')"
   ]
  },
  {
   "cell_type": "code",
   "execution_count": 47,
   "metadata": {},
   "outputs": [],
   "source": [
    "#備考欄を作成する\n",
    "#最大桁数の下の行に挿入\n",
    "border4 = Border(left=side,right=side,bottom=side)\n",
    "border5 = Border(left=side,top=side)\n",
    "border6 = Border(right=side,top=side)\n",
    "border7 = Border(left=side,bottom=side)\n",
    "border8 = Border(right=side,bottom=side)\n",
    "\n",
    "for row in sh.iter_rows(max_row+1,max_row+1,min_col,max_col):\n",
    "    for cell in row:\n",
    "        cell.value = \" \"\n",
    "\n",
    "sh.cell(max_row+1,min_col).value=\"備考\"\n",
    "\n",
    "for row in sh.iter_rows(max_row+1,max_row+2,min_col,min_col):\n",
    "    for cell in row:\n",
    "        if sh[cell.coordinate].value:\n",
    "            sh[cell.coordinate].border = border5\n",
    "        else:\n",
    "            cell.border = border7\n",
    "            \n",
    "for row in sh.iter_rows(max_row+1,max_row+2,min_col+1,min_col+1):\n",
    "    for cell in row:\n",
    "        if sh[cell.coordinate].value:\n",
    "            sh[cell.coordinate].border = border6\n",
    "        else:\n",
    "            cell.border = border8\n",
    "\n",
    "for row in sh.iter_rows(max_row+1,max_row+2,min_col+2,max_col):\n",
    "    for cell in row:\n",
    "        if sh[cell.coordinate].value:\n",
    "            sh[cell.coordinate].border = border2\n",
    "        else:\n",
    "            cell.border = border4"
   ]
  },
  {
   "cell_type": "code",
   "execution_count": 48,
   "metadata": {},
   "outputs": [],
   "source": [
    "wb1.save('List_test5_new.xlsx')"
   ]
  },
  {
   "cell_type": "code",
   "execution_count": 49,
   "metadata": {},
   "outputs": [],
   "source": [
    "#連番を奇数行に振る列を作成する。\n",
    "sh.cell(min_row,min_col).value=\"No\"\n",
    "n=0\n",
    "m=1\n",
    "for row in sh.iter_rows(min_row,min_row,min_col+2,max_col):\n",
    "    for cell in row:\n",
    "        if n % 2 == 0:\n",
    "            cell.value = \"{0}\".format(m)\n",
    "            m=m+1\n",
    "        else:\n",
    "            cell.value = \"\"  \n",
    "        n=n+1"
   ]
  },
  {
   "cell_type": "code",
   "execution_count": 50,
   "metadata": {},
   "outputs": [],
   "source": [
    "wb1.save('List_test6_new.xlsx')"
   ]
  },
  {
   "cell_type": "code",
   "execution_count": 51,
   "metadata": {},
   "outputs": [],
   "source": [
    "#項目名称行に関しては、「件数」と名の付く行or偶数行の値をNoneにしたい\n",
    "n = 1\n",
    "for row in sh.iter_rows(min_row+1,min_row+1,min_col,max_col):\n",
    "    for cell in row:\n",
    "        if n % 2 == 0:\n",
    "            cell.value = None   \n",
    "        n = n+1"
   ]
  },
  {
   "cell_type": "code",
   "execution_count": 52,
   "metadata": {},
   "outputs": [],
   "source": [
    "wb1.save('List_test7_new.xlsx')"
   ]
  },
  {
   "cell_type": "code",
   "execution_count": 53,
   "metadata": {},
   "outputs": [],
   "source": [
    "sh.cell(min_row+2,min_col).value=\"型式\"\n",
    "#型式行を作成する。\n",
    "#どのようなデータ型式なのかをStructInfo.txtの「タイプ」から判別して、セルを埋める\n",
    "#A:「文字列」I:「整数」F:「浮動小数」E:「日付時刻」T:「時刻」D:「日付」のように当てはめて入れる。\n",
    "n = 0\n",
    "m = 0\n",
    "for row in sh.iter_rows(min_row+2,min_row+2,min_col+2,max_col):\n",
    "    for cell in row:\n",
    "        if n % 2 == 0:\n",
    "            cell.value = area[m]\n",
    "            m = m+1\n",
    "        else:\n",
    "            cell.value = \"\"\n",
    "        n = n+1\n",
    "\n",
    "    for cell in row:\n",
    "        if cell.value == \"A\":\n",
    "            cell.value = \"文字列\"\n",
    "            \n",
    "        elif cell.value == \"I\":\n",
    "            cell.value = \"整数\"\n",
    "            \n",
    "        elif cell.value == \"F\":\n",
    "            cell.value = \"浮動小数\"\n",
    "            \n",
    "        elif cell.value == \"E\":\n",
    "            cell.value = \"日付時刻\"\n",
    "            \n",
    "        elif cell.value == \"T\":\n",
    "            cell.value = \"時刻\"\n",
    "            \n",
    "        elif cell.value == \"D\":\n",
    "            cell.value = \"日付\"\n"
   ]
  },
  {
   "cell_type": "code",
   "execution_count": 54,
   "metadata": {},
   "outputs": [],
   "source": [
    "#行の名前なしで、偶数行に「値」奇数行に「件数」を入れる。\n",
    "sh.cell(min_row+3,min_col).value=\"　\"\n",
    "n = 0\n",
    "for row in sh.iter_rows(min_row+3,min_row+3,min_col+2,max_col):\n",
    "    for cell in row:\n",
    "        if n % 2 == 0:\n",
    "            cell.value = \"値\"\n",
    "        else:\n",
    "            cell.value = \"件数\"      \n",
    "        n = n+1"
   ]
  },
  {
   "cell_type": "code",
   "execution_count": 55,
   "metadata": {},
   "outputs": [],
   "source": [
    "wb1.save('List_test8_new.xlsx')"
   ]
  },
  {
   "cell_type": "code",
   "execution_count": 56,
   "metadata": {},
   "outputs": [],
   "source": [
    "#奇数セルは（left,top,bottom)、偶数セルは（right,top,bottom)に罫線を引く\n",
    "border9 = Border(left=side,top=side,bottom=side)\n",
    "border10 = Border(right=side,top=side,bottom=side)\n",
    "n=-1\n",
    "for row in sh.iter_rows(min_row,min_row+2,min_col,max_col):\n",
    "    for cell in row:\n",
    "        if n % 2 == 0:\n",
    "            cell.border = border10\n",
    "        else:\n",
    "            cell.border = border9      \n",
    "        n = n+1\n",
    "        \n",
    "sh[\"A10\"].border=border9\n",
    "sh[\"B10\"].border=border10"
   ]
  },
  {
   "cell_type": "code",
   "execution_count": 57,
   "metadata": {},
   "outputs": [],
   "source": [
    "wb1.save('List_test9_new.xlsx')"
   ]
  },
  {
   "cell_type": "code",
   "execution_count": 58,
   "metadata": {},
   "outputs": [],
   "source": [
    "#A、B列に色を塗る\n",
    "#値、最小値、最大値、最大件数、最小件数、最大桁数、最小桁数の上位件数、表示レコード件数に従って色を塗る\n",
    "for rows in sh.iter_rows(min_row,max_row+2,1,2):\n",
    "    for cell in rows:\n",
    "        #セル背景色\n",
    "        cell.fill = PatternFill(patternType=\"solid\", fgColor='d3d3d3')"
   ]
  },
  {
   "cell_type": "code",
   "execution_count": 59,
   "metadata": {},
   "outputs": [],
   "source": [
    "wb1.save('List_test10_new.xlsx')"
   ]
  },
  {
   "cell_type": "code",
   "execution_count": 60,
   "metadata": {},
   "outputs": [],
   "source": [
    "#見出しに色を付ける\n",
    "#色に関してはグレーに設定する。\n",
    "#1行目から4行目まで色を塗る\n",
    "for rows in sh.iter_rows(min_row,min_row+3):\n",
    "    for cell in rows:\n",
    "        #セル背景色\n",
    "        cell.fill = PatternFill(patternType=\"solid\", fgColor='d3d3d3')"
   ]
  },
  {
   "cell_type": "code",
   "execution_count": 61,
   "metadata": {},
   "outputs": [],
   "source": [
    "#リスト部分をxlsx型式で出力する\n",
    "wb1.save('List_test11_new.xlsx')"
   ]
  },
  {
   "cell_type": "code",
   "execution_count": 62,
   "metadata": {},
   "outputs": [],
   "source": [
    "#リスト部分、1行目から4行目までを左寄せに調節する。\n",
    "for row in sh.iter_rows(min_row,min_row+1,min_col,max_col):\n",
    "    for cell in row:\n",
    "        cell.alignment = Alignment(horizontal=\"left\",vertical='center')"
   ]
  },
  {
   "cell_type": "code",
   "execution_count": 63,
   "metadata": {},
   "outputs": [],
   "source": [
    "#リスト部分の幅を自動調整\n",
    "for col in sh.columns:\n",
    "    max_length = 0\n",
    "    column = col[0].column\n",
    "\n",
    "    for cell in col:\n",
    "        if len(str(cell.value)) > max_length:\n",
    "            max_length = len(str(cell.value))\n",
    "\n",
    "    adjusted_width = (max_length + 3) * 1.4\n",
    "    sh.column_dimensions[col[0].column_letter].width = adjusted_width\n"
   ]
  },
  {
   "cell_type": "code",
   "execution_count": 64,
   "metadata": {},
   "outputs": [],
   "source": [
    "#作成日\n",
    "now = datetime.datetime.now()\n",
    "sh.cell(row = min_row-6,column = max_col-1).value =\"BIG DATA R&D本部\"\n",
    "sh.cell(row = min_row-5,column = max_col-1).value =(\"作成日：\"+\"{0:%Y年%m月%d日}\").format(now)\n",
    "sh.cell(row = min_row-4,column = max_col-1).value =(\"更新日：\"+\"{0:%Y年%m月%d日}\").format(now)"
   ]
  },
  {
   "cell_type": "code",
   "execution_count": 65,
   "metadata": {},
   "outputs": [],
   "source": [
    "#フォント追加\n",
    "font = Font(name='游ゴシック')\n",
    "for row in sh.iter_rows(min_row-6,max_row,min_col,max_col):\n",
    "    for cell in row:\n",
    "        sh[cell.coordinate].font = font"
   ]
  },
  {
   "cell_type": "code",
   "execution_count": 66,
   "metadata": {},
   "outputs": [],
   "source": [
    "#タイトルの太字設定\n",
    "sh['A1'].font = Font(bold=True,name='游ゴシック')"
   ]
  },
  {
   "cell_type": "code",
   "execution_count": 67,
   "metadata": {},
   "outputs": [],
   "source": [
    "wb1.save('List_Ver1.xlsx')"
   ]
  },
  {
   "cell_type": "code",
   "execution_count": null,
   "metadata": {},
   "outputs": [],
   "source": []
  },
  {
   "cell_type": "code",
   "execution_count": null,
   "metadata": {},
   "outputs": [],
   "source": []
  }
 ],
 "metadata": {
  "kernelspec": {
   "display_name": "Python 3",
   "language": "python",
   "name": "python3"
  },
  "language_info": {
   "codemirror_mode": {
    "name": "ipython",
    "version": 3
   },
   "file_extension": ".py",
   "mimetype": "text/x-python",
   "name": "python",
   "nbconvert_exporter": "python",
   "pygments_lexer": "ipython3",
   "version": "3.8.5"
  }
 },
 "nbformat": 4,
 "nbformat_minor": 4
}
